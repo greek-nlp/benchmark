{
  "nbformat": 4,
  "nbformat_minor": 0,
  "metadata": {
    "colab": {
      "provenance": [],
      "collapsed_sections": [
        "VNgrd1Ht-LFw",
        "O97r-Vgw8gEA",
        "5yviycFr8VUy",
        "lrkgnmmkQbZj"
      ],
      "machine_shape": "hm",
      "gpuType": "L4",
      "include_colab_link": true
    },
    "kernelspec": {
      "name": "python3",
      "display_name": "Python 3"
    },
    "language_info": {
      "name": "python"
    },
    "accelerator": "GPU"
  },
  "cells": [
    {
      "cell_type": "markdown",
      "metadata": {
        "id": "view-in-github",
        "colab_type": "text"
      },
      "source": [
        "<a href=\"https://colab.research.google.com/github/greek-nlp/benchmark/blob/main/nlp_gr_access_data.ipynb\" target=\"_parent\"><img src=\"https://colab.research.google.com/assets/colab-badge.svg\" alt=\"Open In Colab\"/></a>"
      ]
    },
    {
      "cell_type": "markdown",
      "source": [
        "# Initialisation\n"
      ],
      "metadata": {
        "id": "k2MjPuTks5tC"
      }
    },
    {
      "cell_type": "code",
      "source": [
        "%%capture\n",
        "!git clone https://github.com/greek-nlp/gen-a.git\n",
        "!pip install zenodo-get\n",
        "!pip install datasets\n",
        "!pip install conll-df"
      ],
      "metadata": {
        "id": "800OqLKSaqRk"
      },
      "execution_count": null,
      "outputs": []
    },
    {
      "cell_type": "code",
      "source": [
        "import pandas as pd\n",
        "import importlib\n",
        "\n",
        "gr_data = pd.read_csv('gen-a/data.csv')\n",
        "gena = importlib.import_module(\"gen-a.data_wrapper\")"
      ],
      "metadata": {
        "id": "mxGyasqy9g1s"
      },
      "execution_count": null,
      "outputs": []
    },
    {
      "cell_type": "markdown",
      "source": [
        "# GEC"
      ],
      "metadata": {
        "id": "VNgrd1Ht-LFw"
      }
    },
    {
      "cell_type": "code",
      "source": [
        "korre = gena.KorreDt(datasets=gr_data)\n",
        "korre_train = korre.get('train')"
      ],
      "metadata": {
        "id": "T1lzV8pW-KbS"
      },
      "execution_count": null,
      "outputs": []
    },
    {
      "cell_type": "markdown",
      "source": [
        "# Toxicity"
      ],
      "metadata": {
        "id": "O97r-Vgw8gEA"
      }
    },
    {
      "cell_type": "code",
      "source": [
        "zampieri = gena.ZampieriDt(datasets = gr_data)\n",
        "zampieri_test = zampieri.get('test')"
      ],
      "metadata": {
        "id": "7ABweeEpDlIv"
      },
      "execution_count": null,
      "outputs": []
    },
    {
      "cell_type": "markdown",
      "source": [
        "# MT"
      ],
      "metadata": {
        "id": "5yviycFr8VUy"
      }
    },
    {
      "cell_type": "code",
      "source": [
        "prokopidis_mt = gena.ProkopidisMtDt(datasets=gr_data)\n",
        "pd.set_option('display.max_colwidth', None)\n",
        "for lang in prokopidis_mt.target_langs:\n",
        "  print(f\"Language: {lang} ({prokopidis_mt.langs_dict[lang]})\")\n",
        "  display(prokopidis_mt.get(lang, 'train').sample())"
      ],
      "metadata": {
        "id": "vutj82AMmA-u"
      },
      "execution_count": null,
      "outputs": []
    },
    {
      "cell_type": "markdown",
      "source": [
        "# Intent"
      ],
      "metadata": {
        "id": "lrkgnmmkQbZj"
      }
    },
    {
      "cell_type": "code",
      "source": [
        "rizou_test = gena.RizouDt(datasets=gr_data).get('test')\n",
        "rizou_test.sample()"
      ],
      "metadata": {
        "id": "_zs4CZcSQECt"
      },
      "execution_count": null,
      "outputs": []
    },
    {
      "cell_type": "markdown",
      "source": [
        "# Summarisation"
      ],
      "metadata": {
        "id": "fTRky8I4p28I"
      }
    },
    {
      "cell_type": "code",
      "source": [
        "koniaris = gena.KoniarisDt(datasets = gr_data)\n",
        "koniaris_test = koniaris.get('test')"
      ],
      "metadata": {
        "id": "BPajrrnRpuOc"
      },
      "execution_count": null,
      "outputs": []
    },
    {
      "cell_type": "markdown",
      "source": [
        "# Clustering"
      ],
      "metadata": {
        "id": "ukaBIDhLqUsC"
      }
    },
    {
      "cell_type": "code",
      "source": [
        "%%capture\n",
        "papaloukas_test = gena.PapaloukasDt(datasets=gr_data).get('test')"
      ],
      "metadata": {
        "id": "hKG4pr1-qVeP",
        "collapsed": true
      },
      "execution_count": null,
      "outputs": []
    },
    {
      "cell_type": "code",
      "source": [
        "papaloukas.sample()"
      ],
      "metadata": {
        "id": "U-0B1RtUMbHv"
      },
      "execution_count": null,
      "outputs": []
    },
    {
      "cell_type": "markdown",
      "source": [
        "# Structure prediction (POS, NER)"
      ],
      "metadata": {
        "id": "AuxJQeGtqV74"
      }
    },
    {
      "cell_type": "markdown",
      "source": [
        "## NER"
      ],
      "metadata": {
        "id": "5Kvx725Iqkju"
      }
    },
    {
      "cell_type": "code",
      "source": [
        "barziokas_test = gena.BarziokasDt(datasets=gr_data).get('test')\n",
        "barziokas_test.sample()"
      ],
      "metadata": {
        "id": "ZbMInt02qYqX"
      },
      "execution_count": null,
      "outputs": []
    },
    {
      "cell_type": "markdown",
      "source": [
        "## POS"
      ],
      "metadata": {
        "id": "gBMh5tneqmq6"
      }
    },
    {
      "cell_type": "code",
      "source": [
        "prokopidis_ud_test = gena.ProkopidisUdDt( datasets=gr_data).get('test')\n",
        "prokopidis_ud_test.head()"
      ],
      "metadata": {
        "id": "tLZaEo_4qnU8"
      },
      "execution_count": null,
      "outputs": []
    },
    {
      "cell_type": "markdown",
      "source": [
        "# Authorship analysis"
      ],
      "metadata": {
        "id": "yim6eMcMzLt7"
      }
    },
    {
      "cell_type": "code",
      "source": [
        "barzokas_train = gena.BarzokasDt(datasets=gr_data).get('train')\n",
        "barzokas_train.sample()"
      ],
      "metadata": {
        "id": "7BPbpX-WzM07"
      },
      "execution_count": null,
      "outputs": []
    },
    {
      "cell_type": "markdown",
      "source": [
        "# Language modeling\n",
        "\n",
        "* Analysing raw data"
      ],
      "metadata": {
        "id": "Aoaoei2VzHia"
      }
    },
    {
      "cell_type": "code",
      "source": [
        "#@title download the data\n",
        "raw_data = {}\n",
        "raw_data['prokopidis'] = gena.ProkopidisCrawledDt(datasets=gr_data).get('train')\n",
        "raw_data['dritsa'] = gena.DritsaDt(datasets=gr_data).get('train')\n",
        "raw_data['papantoniou'] = gena.PapantoniouDt(datasets=gr_data).get('train')"
      ],
      "metadata": {
        "id": "2q86BKNmTNib"
      },
      "execution_count": null,
      "outputs": []
    },
    {
      "cell_type": "markdown",
      "source": [
        "* Train a character-level language model per dataset.\n",
        "* Compute the BPC per dataset.\n",
        "* Draw a BPC heatmap, showing in red the dataset linguistically surprised by which."
      ],
      "metadata": {
        "id": "csU9FMpoml9A"
      }
    },
    {
      "cell_type": "code",
      "source": [
        "#!git clone https://github.com/ipavlopoulos/lm.git\n",
        "from lm.markov.models import LM\n",
        "\n",
        "train_sets = {}\n",
        "test_sets = {}\n",
        "for dataset_name in raw_data:\n",
        "  print(dataset_name)\n",
        "  dataset = raw_data[dataset_name]\n",
        "  dataset = dataset[dataset.text.notna()]\n",
        "  dataset = dataset.sample(frac=1).reset_index(drop=True)\n",
        "  train_sets[dataset_name] = dataset.text.apply(lambda x: x[:100]).iloc[:1000] # lower lim\n",
        "  test_sets[dataset_name] = dataset.text.apply(lambda x: x[:100]).iloc[1000:1500]"
      ],
      "metadata": {
        "id": "Ffg204vJ4aic"
      },
      "execution_count": null,
      "outputs": []
    }
  ]
}